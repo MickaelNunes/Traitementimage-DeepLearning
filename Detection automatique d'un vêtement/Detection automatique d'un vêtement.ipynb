{
 "cells": [
  {
   "cell_type": "markdown",
   "metadata": {},
   "source": [
    "# Detection automatique d'un vêtement (méthode Lenet)"
   ]
  },
  {
   "cell_type": "markdown",
   "metadata": {},
   "source": [
    "![](https://images.unsplash.com/photo-1512436991641-6745cdb1723f?ixlib=rb-1.2.1&ixid=eyJhcHBfaWQiOjEyMDd9&auto=format&fit=crop&w=1050&q=80)\n",
    "\n",
    "Photo by [Pietro Jeng](https://unsplash.com/photos/sQVXS8HBPPc)"
   ]
  },
  {
   "cell_type": "markdown",
   "metadata": {},
   "source": [
    "Dans ce projet, nous allons appliquer l'algorithme mis en évidence par Yann Lecun sur le jeux de données \"Fashion MNIST\". Essayons par rapport à un algorithme basique de machine learning d'améliorer nos résultats."
   ]
  },
  {
   "cell_type": "markdown",
   "metadata": {},
   "source": [
    "Importons tout d'abord le dataset"
   ]
  },
  {
   "cell_type": "code",
   "execution_count": 2,
   "metadata": {
    "scrolled": true
   },
   "outputs": [
    {
     "name": "stderr",
     "output_type": "stream",
     "text": [
      "/Users/mickaelnunes/bin/anaconda/lib/python3.6/site-packages/h5py/__init__.py:36: FutureWarning: Conversion of the second argument of issubdtype from `float` to `np.floating` is deprecated. In future, it will be treated as `np.float64 == np.dtype(float).type`.\n",
      "  from ._conv import register_converters as _register_converters\n",
      "Using TensorFlow backend.\n"
     ]
    }
   ],
   "source": [
    "from keras.datasets import fashion_mnist\n",
    "\n",
    "(X_train, y_train), (X_test, y_test) = fashion_mnist.load_data()"
   ]
  },
  {
   "cell_type": "markdown",
   "metadata": {},
   "source": [
    "Voicice qu'il contient:\n",
    "\n",
    "* 0:\tT-shirt/top\n",
    "* 1:\tTrouser\n",
    "* 2:\tPullover\n",
    "* 3:\tDress\n",
    "* 4:\tCoat\n",
    "* 5:\tSandal\n",
    "* 6:\tShirt\n",
    "* 7:\tSneaker\n",
    "* 8:\tBag\n",
    "* 9:\tAnkle boot"
   ]
  },
  {
   "cell_type": "markdown",
   "metadata": {},
   "source": [
    "On peut déjà, dans un premier temps, s'amuser à voir les photos qu'il contient"
   ]
  },
  {
   "cell_type": "code",
   "execution_count": 52,
   "metadata": {
    "scrolled": false
   },
   "outputs": [
    {
     "data": {
      "image/png": "[encoded data removed]",
      "text/plain": [
       "<Figure size 432x288 with 1 Axes>"
      ]
     },
     "metadata": {},
     "output_type": "display_data"
    }
   ],
   "source": [
    "import matplotlib.pyplot as plt\n",
    "import numpy as np\n",
    "\n",
    "label_class = ['top', 'trouser', 'pullover', 'dress', 'coat', 'sandal', 'shirt', 'sneaker', 'bag', 'ankle boot']\n",
    "\n",
    "idx = np.random.randint(X_train.shape[0])\n",
    "\n",
    "plt.imshow(X_train[idx], cmap='gray_r')\n",
    "plt.title(label_class[y_train[idx]])\n",
    "plt.show()\n"
   ]
  },
  {
   "cell_type": "markdown",
   "metadata": {},
   "source": [
    "## 1) Data preprocessing"
   ]
  },
  {
   "cell_type": "code",
   "execution_count": 32,
   "metadata": {},
   "outputs": [
    {
     "data": {
      "text/plain": [
       "(60000, 28, 28)"
      ]
     },
     "execution_count": 32,
     "metadata": {},
     "output_type": "execute_result"
    }
   ],
   "source": [
    "X_train.shape"
   ]
  },
  {
   "cell_type": "code",
   "execution_count": 33,
   "metadata": {},
   "outputs": [],
   "source": [
    "from keras.utils import to_categorical\n",
    "\n",
    "y_train_cat = to_categorical(y_train, num_classes=10)\n",
    "y_test_cat = to_categorical(y_test, num_classes=10)\n",
    "\n",
    "X_train_norm = X_train/255.\n",
    "X_test_norm = X_test/255.\n",
    "\n",
    "X_train_norm = X_train_norm.reshape(X_train_norm.shape[0], 28, 28, 1)\n",
    "X_test_norm = X_test_norm.reshape(X_test_norm.shape[0], 28, 28, 1)\n"
   ]
  },
  {
   "cell_type": "code",
   "execution_count": 34,
   "metadata": {},
   "outputs": [
    {
     "data": {
      "text/plain": [
       "(60000, 28, 28, 1)"
      ]
     },
     "execution_count": 34,
     "metadata": {},
     "output_type": "execute_result"
    }
   ],
   "source": [
    "X_train_norm.shape"
   ]
  },
  {
   "cell_type": "markdown",
   "metadata": {},
   "source": [
    "Créons dorénavant l'architecture LeNet sur ce projet afin de voir si les résultats sont cohérents"
   ]
  },
  {
   "cell_type": "code",
   "execution_count": 35,
   "metadata": {},
   "outputs": [],
   "source": [
    "from keras.models import Sequential\n",
    "from keras.layers import MaxPooling2D, Conv2D, Flatten, Dense\n",
    "\n",
    "\n",
    "def lenet5():\n",
    "    \n",
    "    model = Sequential()\n",
    "\n",
    "    # Layer C1\n",
    "    model.add(Conv2D(filters=6, name='C1', kernel_size=(3, 3), activation='relu', input_shape=(28,28,1)))\n",
    "    # Layer S2\n",
    "    model.add(MaxPooling2D(pool_size=(2, 2), name='S2'))\n",
    "    # Layer C3\n",
    "    model.add(Conv2D(filters=16, name='C3', kernel_size=(3, 3), activation='relu'))\n",
    "    # Layer S4\n",
    "    model.add(MaxPooling2D(pool_size=(2, 2), name='S4'))\n",
    "    # Before going into layer C5, we flatten our units\n",
    "    model.add(Flatten())\n",
    "    # Layer C5\n",
    "    model.add(Dense(units=120, activation='relu', name='C5'))\n",
    "    # Layer F6\n",
    "    model.add(Dense(units=84, activation='relu', name='F6'))\n",
    "    # Output layer\n",
    "    model.add(Dense(units=10, activation = 'softmax'))\n",
    "    \n",
    "    return model\n"
   ]
  },
  {
   "cell_type": "code",
   "execution_count": 36,
   "metadata": {
    "scrolled": true
   },
   "outputs": [
    {
     "name": "stdout",
     "output_type": "stream",
     "text": [
      "Train on 60000 samples, validate on 10000 samples\n",
      "Epoch 1/100\n",
      "60000/60000 [==============================] - 15s 243us/step - loss: 0.5983 - acc: 0.7807 - val_loss: 0.4405 - val_acc: 0.8378\n",
      "Epoch 2/100\n",
      "60000/60000 [==============================] - 17s 278us/step - loss: 0.4011 - acc: 0.8518 - val_loss: 0.3799 - val_acc: 0.8621\n",
      "Epoch 3/100\n",
      "60000/60000 [==============================] - 16s 274us/step - loss: 0.3491 - acc: 0.8718 - val_loss: 0.3599 - val_acc: 0.8678\n",
      "Epoch 4/100\n",
      "60000/60000 [==============================] - 17s 290us/step - loss: 0.3197 - acc: 0.8822 - val_loss: 0.3374 - val_acc: 0.8809\n",
      "Epoch 5/100\n",
      "60000/60000 [==============================] - 16s 267us/step - loss: 0.2983 - acc: 0.8893 - val_loss: 0.3389 - val_acc: 0.8748\n",
      "Epoch 6/100\n",
      "60000/60000 [==============================] - 16s 268us/step - loss: 0.2838 - acc: 0.8946 - val_loss: 0.3133 - val_acc: 0.8843\n",
      "Epoch 7/100\n",
      "60000/60000 [==============================] - 20s 326us/step - loss: 0.2662 - acc: 0.9006 - val_loss: 0.3054 - val_acc: 0.8923\n",
      "Epoch 8/100\n",
      "60000/60000 [==============================] - 19s 308us/step - loss: 0.2539 - acc: 0.9052 - val_loss: 0.3097 - val_acc: 0.8870\n",
      "Epoch 9/100\n",
      "60000/60000 [==============================] - 18s 305us/step - loss: 0.2431 - acc: 0.9090 - val_loss: 0.2950 - val_acc: 0.8959\n",
      "Epoch 10/100\n",
      "60000/60000 [==============================] - 18s 302us/step - loss: 0.2323 - acc: 0.9138 - val_loss: 0.2987 - val_acc: 0.8925\n",
      "Epoch 11/100\n",
      "60000/60000 [==============================] - 18s 304us/step - loss: 0.2224 - acc: 0.9174 - val_loss: 0.3032 - val_acc: 0.8919\n",
      "Epoch 12/100\n",
      "60000/60000 [==============================] - 18s 304us/step - loss: 0.2143 - acc: 0.9202 - val_loss: 0.2899 - val_acc: 0.8957\n",
      "Epoch 13/100\n",
      "60000/60000 [==============================] - 19s 313us/step - loss: 0.2041 - acc: 0.9232 - val_loss: 0.3025 - val_acc: 0.8937\n",
      "Epoch 14/100\n",
      "60000/60000 [==============================] - 16s 268us/step - loss: 0.1966 - acc: 0.9259 - val_loss: 0.2913 - val_acc: 0.8947\n",
      "Epoch 15/100\n",
      "60000/60000 [==============================] - 19s 310us/step - loss: 0.1868 - acc: 0.9296 - val_loss: 0.2938 - val_acc: 0.9008\n",
      "Epoch 16/100\n",
      "60000/60000 [==============================] - 17s 283us/step - loss: 0.1795 - acc: 0.9324 - val_loss: 0.3027 - val_acc: 0.8972\n",
      "Epoch 17/100\n",
      "60000/60000 [==============================] - 15s 248us/step - loss: 0.1711 - acc: 0.9360 - val_loss: 0.3030 - val_acc: 0.8991\n",
      "Epoch 18/100\n",
      "60000/60000 [==============================] - 15s 250us/step - loss: 0.1662 - acc: 0.9371 - val_loss: 0.3179 - val_acc: 0.8938\n",
      "Epoch 19/100\n",
      "60000/60000 [==============================] - 15s 243us/step - loss: 0.1578 - acc: 0.9401 - val_loss: 0.3243 - val_acc: 0.8965\n",
      "Epoch 20/100\n",
      "60000/60000 [==============================] - 15s 243us/step - loss: 0.1505 - acc: 0.9435 - val_loss: 0.3361 - val_acc: 0.8938\n",
      "Epoch 21/100\n",
      "60000/60000 [==============================] - 15s 258us/step - loss: 0.1449 - acc: 0.9453 - val_loss: 0.3304 - val_acc: 0.8986\n",
      "Epoch 22/100\n",
      "60000/60000 [==============================] - 15s 245us/step - loss: 0.1406 - acc: 0.9474 - val_loss: 0.3186 - val_acc: 0.8991\n"
     ]
    },
    {
     "data": {
      "text/plain": [
       "<keras.callbacks.History at 0x7fb3f7511b38>"
      ]
     },
     "execution_count": 36,
     "metadata": {},
     "output_type": "execute_result"
    }
   ],
   "source": [
    "from keras.callbacks import EarlyStopping\n",
    "from keras.callbacks import TensorBoard\n",
    "\n",
    "model = lenet5()\n",
    "\n",
    "model.compile(optimizer='adam', loss='categorical_crossentropy', metrics=['accuracy'])\n",
    "\n",
    "# Define callbacks\n",
    "callbacks = [EarlyStopping(monitor='val_loss', patience=10),\n",
    "             TensorBoard(log_dir='./Graph', histogram_freq=0, write_graph=True, write_images=True)]\n",
    "\n",
    "# Finally fit the model\n",
    "model.fit(x=X_train_norm, y=y_train_cat, validation_data=(X_test_norm, y_test_cat), epochs=100, batch_size=64, callbacks=callbacks)\n"
   ]
  },
  {
   "cell_type": "markdown",
   "metadata": {},
   "source": [
    "Etant sur un modèle multiclasse, nous décidons d'utiliser la moyenne comme scoring"
   ]
  },
  {
   "cell_type": "code",
   "execution_count": 37,
   "metadata": {},
   "outputs": [
    {
     "name": "stdout",
     "output_type": "stream",
     "text": [
      "60000/60000 [==============================] - 8s 132us/step\n",
      "accuracy on train with NN: 0.9566\n",
      "10000/10000 [==============================] - 1s 132us/step\n",
      "accuracy on test with NN: 0.8991\n"
     ]
    }
   ],
   "source": [
    "\n",
    "print('accuracy on train with NN:', model.evaluate(X_train_norm, y_train_cat)[1])\n",
    "print('accuracy on test with NN:', model.evaluate(X_test_norm, y_test_cat)[1])\n"
   ]
  },
  {
   "cell_type": "markdown",
   "metadata": {},
   "source": [
    "Nos résultats sont vraiment bons! L'algorithme arrive à reconnaitre 9 images sur 10 ce qui représente un excellent résultat. Néanmoins, allons plus loin, et créons artificiellement des images. Cela nous permettra de combattre notre overfitting."
   ]
  },
  {
   "cell_type": "code",
   "execution_count": 38,
   "metadata": {},
   "outputs": [],
   "source": [
    "from keras.preprocessing.image import ImageDataGenerator\n",
    "\n",
    "datagen = ImageDataGenerator(horizontal_flip=True, rotation_range=10)"
   ]
  },
  {
   "cell_type": "code",
   "execution_count": 39,
   "metadata": {},
   "outputs": [],
   "source": [
    "datagen.fit(X_train_norm)"
   ]
  },
  {
   "cell_type": "code",
   "execution_count": 40,
   "metadata": {
    "scrolled": true
   },
   "outputs": [
    {
     "name": "stdout",
     "output_type": "stream",
     "text": [
      "Epoch 1/100\n",
      "938/937 [==============================] - 18s 19ms/step - loss: 0.6575 - acc: 0.7587 - val_loss: 0.4906 - val_acc: 0.8186\n",
      "Epoch 2/100\n",
      "938/937 [==============================] - 21s 22ms/step - loss: 0.4418 - acc: 0.8353 - val_loss: 0.4255 - val_acc: 0.8488\n",
      "Epoch 3/100\n",
      "938/937 [==============================] - 21s 22ms/step - loss: 0.3887 - acc: 0.8566 - val_loss: 0.4007 - val_acc: 0.8536\n",
      "Epoch 4/100\n",
      "938/937 [==============================] - 22s 23ms/step - loss: 0.3613 - acc: 0.8645 - val_loss: 0.3780 - val_acc: 0.8639\n",
      "Epoch 5/100\n",
      "938/937 [==============================] - 22s 23ms/step - loss: 0.3418 - acc: 0.8737 - val_loss: 0.3795 - val_acc: 0.8567\n",
      "Epoch 6/100\n",
      "938/937 [==============================] - 21s 22ms/step - loss: 0.3266 - acc: 0.8792 - val_loss: 0.3512 - val_acc: 0.8717\n",
      "Epoch 7/100\n",
      "938/937 [==============================] - 22s 24ms/step - loss: 0.3149 - acc: 0.8822 - val_loss: 0.3592 - val_acc: 0.8729\n",
      "Epoch 8/100\n",
      "938/937 [==============================] - 29s 31ms/step - loss: 0.3003 - acc: 0.8871 - val_loss: 0.3275 - val_acc: 0.8782\n",
      "Epoch 9/100\n",
      "938/937 [==============================] - 19s 20ms/step - loss: 0.2947 - acc: 0.8891 - val_loss: 0.3305 - val_acc: 0.8814\n",
      "Epoch 10/100\n",
      "938/937 [==============================] - 19s 20ms/step - loss: 0.2847 - acc: 0.8944 - val_loss: 0.3289 - val_acc: 0.8785\n",
      "Epoch 11/100\n",
      "938/937 [==============================] - 19s 20ms/step - loss: 0.2795 - acc: 0.8950 - val_loss: 0.3097 - val_acc: 0.8867\n",
      "Epoch 12/100\n",
      "938/937 [==============================] - 25s 26ms/step - loss: 0.2729 - acc: 0.8991 - val_loss: 0.3029 - val_acc: 0.8910\n",
      "Epoch 13/100\n",
      "938/937 [==============================] - 23s 24ms/step - loss: 0.2662 - acc: 0.8982 - val_loss: 0.3142 - val_acc: 0.8895\n",
      "Epoch 14/100\n",
      "938/937 [==============================] - 22s 23ms/step - loss: 0.2602 - acc: 0.9018 - val_loss: 0.3148 - val_acc: 0.8857\n",
      "Epoch 15/100\n",
      "938/937 [==============================] - 22s 23ms/step - loss: 0.2568 - acc: 0.9019 - val_loss: 0.3070 - val_acc: 0.8915\n",
      "Epoch 16/100\n",
      "938/937 [==============================] - 22s 23ms/step - loss: 0.2524 - acc: 0.9043 - val_loss: 0.2989 - val_acc: 0.8936\n",
      "Epoch 17/100\n",
      "938/937 [==============================] - 22s 23ms/step - loss: 0.2465 - acc: 0.9067 - val_loss: 0.3049 - val_acc: 0.8945\n",
      "Epoch 18/100\n",
      "938/937 [==============================] - 22s 23ms/step - loss: 0.2431 - acc: 0.9071 - val_loss: 0.3120 - val_acc: 0.8940\n",
      "Epoch 19/100\n",
      "938/937 [==============================] - 22s 23ms/step - loss: 0.2409 - acc: 0.9091 - val_loss: 0.3102 - val_acc: 0.8923\n",
      "Epoch 20/100\n",
      "938/937 [==============================] - 22s 23ms/step - loss: 0.2337 - acc: 0.9123 - val_loss: 0.2997 - val_acc: 0.8918\n",
      "Epoch 21/100\n",
      "938/937 [==============================] - 1874s 2s/step - loss: 0.2316 - acc: 0.9124 - val_loss: 0.2985 - val_acc: 0.8955\n",
      "Epoch 22/100\n",
      "938/937 [==============================] - 24s 26ms/step - loss: 0.2290 - acc: 0.9122 - val_loss: 0.3038 - val_acc: 0.8947\n",
      "Epoch 23/100\n",
      "938/937 [==============================] - 22s 23ms/step - loss: 0.2260 - acc: 0.9147 - val_loss: 0.3019 - val_acc: 0.8942\n",
      "Epoch 24/100\n",
      "938/937 [==============================] - 25s 27ms/step - loss: 0.2242 - acc: 0.9151 - val_loss: 0.2996 - val_acc: 0.8991\n",
      "Epoch 25/100\n",
      "938/937 [==============================] - 23s 24ms/step - loss: 0.2218 - acc: 0.9154 - val_loss: 0.3113 - val_acc: 0.8950\n",
      "Epoch 26/100\n",
      "938/937 [==============================] - 22s 24ms/step - loss: 0.2181 - acc: 0.9170 - val_loss: 0.3007 - val_acc: 0.8982\n",
      "Epoch 27/100\n",
      "938/937 [==============================] - 22s 24ms/step - loss: 0.2139 - acc: 0.9177 - val_loss: 0.3264 - val_acc: 0.8892\n",
      "Epoch 28/100\n",
      "938/937 [==============================] - 21s 23ms/step - loss: 0.2160 - acc: 0.9178 - val_loss: 0.3068 - val_acc: 0.8942\n",
      "Epoch 29/100\n",
      "938/937 [==============================] - 21s 23ms/step - loss: 0.2122 - acc: 0.9200 - val_loss: 0.3135 - val_acc: 0.8952\n",
      "Epoch 30/100\n",
      "938/937 [==============================] - 22s 24ms/step - loss: 0.2100 - acc: 0.9199 - val_loss: 0.2979 - val_acc: 0.8973\n",
      "Epoch 31/100\n",
      "938/937 [==============================] - 22s 23ms/step - loss: 0.2071 - acc: 0.9214 - val_loss: 0.3088 - val_acc: 0.8922\n",
      "Epoch 32/100\n",
      "938/937 [==============================] - 22s 23ms/step - loss: 0.2050 - acc: 0.9216 - val_loss: 0.3126 - val_acc: 0.8921\n",
      "Epoch 33/100\n",
      "938/937 [==============================] - 21s 23ms/step - loss: 0.2057 - acc: 0.9209 - val_loss: 0.3076 - val_acc: 0.8971\n",
      "Epoch 34/100\n",
      "938/937 [==============================] - 21s 23ms/step - loss: 0.2014 - acc: 0.9229 - val_loss: 0.3247 - val_acc: 0.8912\n",
      "Epoch 35/100\n",
      "938/937 [==============================] - 21s 23ms/step - loss: 0.1997 - acc: 0.9240 - val_loss: 0.3016 - val_acc: 0.8994\n",
      "Epoch 36/100\n",
      "938/937 [==============================] - 22s 23ms/step - loss: 0.1946 - acc: 0.9256 - val_loss: 0.3250 - val_acc: 0.8964\n",
      "Epoch 37/100\n",
      "938/937 [==============================] - 23s 25ms/step - loss: 0.1967 - acc: 0.9250 - val_loss: 0.3084 - val_acc: 0.8974\n",
      "Epoch 38/100\n",
      "938/937 [==============================] - 21s 23ms/step - loss: 0.1947 - acc: 0.9253 - val_loss: 0.3048 - val_acc: 0.9030\n",
      "Epoch 39/100\n",
      "938/937 [==============================] - 23s 24ms/step - loss: 0.1927 - acc: 0.9263 - val_loss: 0.3200 - val_acc: 0.9012\n",
      "Epoch 40/100\n",
      "938/937 [==============================] - 25s 26ms/step - loss: 0.1921 - acc: 0.9273 - val_loss: 0.2924 - val_acc: 0.9025\n",
      "Epoch 41/100\n",
      "938/937 [==============================] - 21s 22ms/step - loss: 0.1884 - acc: 0.9292 - val_loss: 0.3009 - val_acc: 0.9025\n",
      "Epoch 42/100\n",
      "938/937 [==============================] - 22s 24ms/step - loss: 0.1881 - acc: 0.9279 - val_loss: 0.3146 - val_acc: 0.9010\n",
      "Epoch 43/100\n",
      "938/937 [==============================] - 24s 26ms/step - loss: 0.1862 - acc: 0.9280 - val_loss: 0.3064 - val_acc: 0.9012\n",
      "Epoch 44/100\n",
      "938/937 [==============================] - 23s 25ms/step - loss: 0.1850 - acc: 0.9296 - val_loss: 0.3230 - val_acc: 0.8956\n",
      "Epoch 45/100\n",
      "938/937 [==============================] - 24s 26ms/step - loss: 0.1849 - acc: 0.9288 - val_loss: 0.3120 - val_acc: 0.8970\n",
      "Epoch 46/100\n",
      "938/937 [==============================] - 20s 21ms/step - loss: 0.1833 - acc: 0.9298 - val_loss: 0.3290 - val_acc: 0.8917\n",
      "Epoch 47/100\n",
      "938/937 [==============================] - 19s 21ms/step - loss: 0.1823 - acc: 0.9303 - val_loss: 0.3047 - val_acc: 0.8997\n",
      "Epoch 48/100\n",
      "938/937 [==============================] - 19s 20ms/step - loss: 0.1778 - acc: 0.9316 - val_loss: 0.3051 - val_acc: 0.9014\n",
      "Epoch 49/100\n",
      "938/937 [==============================] - 20s 21ms/step - loss: 0.1779 - acc: 0.9314 - val_loss: 0.3129 - val_acc: 0.9005\n",
      "Epoch 50/100\n",
      "938/937 [==============================] - 20s 21ms/step - loss: 0.1762 - acc: 0.9319 - val_loss: 0.3045 - val_acc: 0.9043\n"
     ]
    },
    {
     "data": {
      "text/plain": [
       "<keras.callbacks.History at 0x7fb3f54a47f0>"
      ]
     },
     "execution_count": 40,
     "metadata": {},
     "output_type": "execute_result"
    }
   ],
   "source": [
    "model = lenet5()\n",
    "\n",
    "model.compile(optimizer='adam', loss='categorical_crossentropy', metrics=['accuracy'])\n",
    "\n",
    "callbacks = [EarlyStopping(monitor='val_loss', patience=10),\n",
    "             TensorBoard(log_dir='./Graph', histogram_freq=0, write_graph=True, write_images=True)]\n",
    "\n",
    "batch_size = 64\n",
    "model.fit_generator(datagen.flow(X_train_norm, y_train_cat, batch_size=batch_size),\n",
    "                    validation_data=(X_test_norm, y_test_cat), callbacks=callbacks,\n",
    "                    steps_per_epoch=len(X_train_norm) / batch_size, epochs=100)"
   ]
  },
  {
   "cell_type": "markdown",
   "metadata": {},
   "source": [
    "Voyons si grâce à cette méthode, nous arrivons à un score plus élevé?"
   ]
  },
  {
   "cell_type": "code",
   "execution_count": 15,
   "metadata": {},
   "outputs": [
    {
     "name": "stdout",
     "output_type": "stream",
     "text": [
      "60000/60000 [==============================] - 8s 135us/step\n",
      "accuracy on train with NN: 0.93875\n",
      "10000/10000 [==============================] - 1s 125us/step\n",
      "accuracy on test with NN: 0.9033\n"
     ]
    }
   ],
   "source": [
    "print('accuracy on train with NN:', model.evaluate(X_train_norm, y_train_cat)[1])\n",
    "print('accuracy on test with NN:', model.evaluate(X_test_norm, y_test_cat)[1])"
   ]
  },
  {
   "cell_type": "markdown",
   "metadata": {},
   "source": [
    "Le résultat s'améliore donc un peu plus malgré le fait qu'on ait pas réussi à combattre l'overfitting. Il faudra donc jouer un peu plus sur les paramètres ou peut-être labéliser plus de photos... Mais finalement pas si mal pour un début!"
   ]
  }
 ],
 "metadata": {
  "kernelspec": {
   "display_name": "Python 3",
   "language": "python",
   "name": "python3"
  },
  "language_info": {
   "codemirror_mode": {
    "name": "ipython",
    "version": 3
   },
   "file_extension": ".py",
   "mimetype": "text/x-python",
   "name": "python",
   "nbconvert_exporter": "python",
   "pygments_lexer": "ipython3",
   "version": "3.6.5"
  }
 },
 "nbformat": 4,
 "nbformat_minor": 2
}
