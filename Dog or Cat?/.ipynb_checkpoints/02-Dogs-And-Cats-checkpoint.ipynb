{
 "cells": [
  {
   "cell_type": "markdown",
   "metadata": {},
   "source": [
    "# 02-Dogs-And-Cats"
   ]
  },
  {
   "cell_type": "markdown",
   "metadata": {},
   "source": [
    "![](https://images.unsplash.com/photo-1547623542-de3ff5941ddb?ixlib=rb-1.2.1&ixid=eyJhcHBfaWQiOjEyMDd9&auto=format&fit=crop&w=1050&q=80)\n",
    "\n",
    "Photo by [Ancaro Project](https://unsplash.com/photos/6VQlKJp2vpo)"
   ]
  },
  {
   "cell_type": "code",
   "execution_count": 7,
   "metadata": {},
   "outputs": [],
   "source": [
    "from keras.models import Sequential\n",
    "from keras.layers import Conv2D, MaxPooling2D\n",
    "from keras.layers import Activation, Dropout, Flatten, Dense\n",
    "\n",
    "model = Sequential()\n",
    "model.add(Conv2D(32, (3, 3), input_shape=(150, 150, 3)))\n",
    "model.add(Activation('relu'))\n",
    "model.add(MaxPooling2D(pool_size=(2, 2)))\n",
    "\n",
    "model.add(Conv2D(32, (3, 3)))\n",
    "model.add(Activation('relu'))\n",
    "model.add(MaxPooling2D(pool_size=(2, 2)))\n",
    "\n",
    "model.add(Conv2D(64, (3, 3)))\n",
    "model.add(Activation('relu'))\n",
    "model.add(MaxPooling2D(pool_size=(2, 2)))\n",
    "\n",
    "model.add(Flatten())  # this converts our 3D feature maps to 1D feature vectors\n",
    "model.add(Dense(64))\n",
    "model.add(Activation('relu'))\n",
    "model.add(Dense(1))\n",
    "model.add(Activation('sigmoid'))"
   ]
  },
  {
   "cell_type": "code",
   "execution_count": 8,
   "metadata": {},
   "outputs": [],
   "source": [
    "# Model compilation\n",
    "\n",
    "model.compile(loss='binary_crossentropy',\n",
    "              optimizer='adam',\n",
    "              metrics=['accuracy'])"
   ]
  },
  {
   "cell_type": "code",
   "execution_count": 10,
   "metadata": {},
   "outputs": [
    {
     "name": "stdout",
     "output_type": "stream",
     "text": [
      "Found 1000 images belonging to 2 classes.\n",
      "Found 200 images belonging to 2 classes.\n"
     ]
    }
   ],
   "source": [
    "# Image generators definition\n",
    "from keras.preprocessing.image import ImageDataGenerator\n",
    "\n",
    "batch_size = 64\n",
    "\n",
    "# this is the augmentation configuration we will use for training\n",
    "train_datagen = ImageDataGenerator(\n",
    "        rescale=1./255,\n",
    "        zoom_range=0.2,\n",
    "        horizontal_flip=True)\n",
    "\n",
    "# this is the augmentation configuration we will use for testing:\n",
    "# only rescaling\n",
    "test_datagen = ImageDataGenerator(rescale=1./255)\n",
    "\n",
    "# this is a generator that will read pictures found in\n",
    "# subfolers of 'data/train', and indefinitely generate\n",
    "# batches of augmented image data\n",
    "train_generator = train_datagen.flow_from_directory(\n",
    "        'data/train',  # this is the target directory\n",
    "        target_size=(150, 150),  # all images will be resized to 150x150\n",
    "        batch_size=batch_size,\n",
    "        class_mode='binary')  # since we use binary_crossentropy loss, we need binary labels\n",
    "\n",
    "# this is a similar generator, for validation data\n",
    "validation_generator = test_datagen.flow_from_directory(\n",
    "        'data/test',\n",
    "        target_size=(150, 150),\n",
    "        batch_size=batch_size,\n",
    "        class_mode='binary')"
   ]
  },
  {
   "cell_type": "code",
   "execution_count": 11,
   "metadata": {},
   "outputs": [
    {
     "name": "stdout",
     "output_type": "stream",
     "text": [
      "Epoch 1/50\n",
      "16/15 [==============================] - 36s 2s/step - loss: 0.7277 - acc: 0.4925 - val_loss: 0.6911 - val_acc: 0.5000\n",
      "Epoch 2/50\n",
      "16/15 [==============================] - 32s 2s/step - loss: 0.6906 - acc: 0.5413 - val_loss: 0.6905 - val_acc: 0.5000\n",
      "Epoch 3/50\n",
      "16/15 [==============================] - 33s 2s/step - loss: 0.6881 - acc: 0.5318 - val_loss: 0.6848 - val_acc: 0.5800\n",
      "Epoch 4/50\n",
      "16/15 [==============================] - 31s 2s/step - loss: 0.6785 - acc: 0.5797 - val_loss: 0.6935 - val_acc: 0.5250\n",
      "Epoch 5/50\n",
      "16/15 [==============================] - 33s 2s/step - loss: 0.6654 - acc: 0.5954 - val_loss: 0.6434 - val_acc: 0.6400\n",
      "Epoch 6/50\n",
      "16/15 [==============================] - 32s 2s/step - loss: 0.6347 - acc: 0.6560 - val_loss: 0.6095 - val_acc: 0.6450\n",
      "Epoch 7/50\n",
      "16/15 [==============================] - 31s 2s/step - loss: 0.6359 - acc: 0.6426 - val_loss: 0.6121 - val_acc: 0.6500\n",
      "Epoch 8/50\n",
      "16/15 [==============================] - 31s 2s/step - loss: 0.6094 - acc: 0.6782 - val_loss: 0.6133 - val_acc: 0.6650\n",
      "Epoch 9/50\n",
      "16/15 [==============================] - 31s 2s/step - loss: 0.5667 - acc: 0.7066 - val_loss: 0.5733 - val_acc: 0.6950\n",
      "Epoch 10/50\n",
      "16/15 [==============================] - 31s 2s/step - loss: 0.5543 - acc: 0.7268 - val_loss: 0.6012 - val_acc: 0.6650\n",
      "Epoch 11/50\n",
      "16/15 [==============================] - 34s 2s/step - loss: 0.5680 - acc: 0.7029 - val_loss: 0.6442 - val_acc: 0.6200\n",
      "Epoch 12/50\n",
      "16/15 [==============================] - 31s 2s/step - loss: 0.5469 - acc: 0.7378 - val_loss: 0.5657 - val_acc: 0.6700\n",
      "Epoch 13/50\n",
      "16/15 [==============================] - 35s 2s/step - loss: 0.5153 - acc: 0.7432 - val_loss: 0.5645 - val_acc: 0.6900\n",
      "Epoch 14/50\n",
      "16/15 [==============================] - 34s 2s/step - loss: 0.4941 - acc: 0.7601 - val_loss: 0.5506 - val_acc: 0.7300\n",
      "Epoch 15/50\n",
      "16/15 [==============================] - 33s 2s/step - loss: 0.4823 - acc: 0.7824 - val_loss: 0.5624 - val_acc: 0.7000\n",
      "Epoch 16/50\n",
      "16/15 [==============================] - 31s 2s/step - loss: 0.4544 - acc: 0.8006 - val_loss: 0.5433 - val_acc: 0.7300\n",
      "Epoch 17/50\n",
      "16/15 [==============================] - 32s 2s/step - loss: 0.4472 - acc: 0.8011 - val_loss: 0.5537 - val_acc: 0.7150\n",
      "Epoch 18/50\n",
      "16/15 [==============================] - 31s 2s/step - loss: 0.4614 - acc: 0.7760 - val_loss: 0.5807 - val_acc: 0.7200\n",
      "Epoch 19/50\n",
      "16/15 [==============================] - 31s 2s/step - loss: 0.4624 - acc: 0.7789 - val_loss: 0.6279 - val_acc: 0.6800\n",
      "Epoch 20/50\n",
      "16/15 [==============================] - 36s 2s/step - loss: 0.4452 - acc: 0.7994 - val_loss: 0.5521 - val_acc: 0.7700\n",
      "Epoch 21/50\n",
      "16/15 [==============================] - 34s 2s/step - loss: 0.4118 - acc: 0.8199 - val_loss: 0.6059 - val_acc: 0.7250\n",
      "Epoch 22/50\n",
      "16/15 [==============================] - 32s 2s/step - loss: 0.3924 - acc: 0.8099 - val_loss: 0.5979 - val_acc: 0.7550\n",
      "Epoch 23/50\n",
      "16/15 [==============================] - 31s 2s/step - loss: 0.3868 - acc: 0.8191 - val_loss: 0.6023 - val_acc: 0.7100\n",
      "Epoch 24/50\n",
      "16/15 [==============================] - 32s 2s/step - loss: 0.3964 - acc: 0.8235 - val_loss: 0.5900 - val_acc: 0.7450\n",
      "Epoch 25/50\n",
      "16/15 [==============================] - 31s 2s/step - loss: 0.4075 - acc: 0.8131 - val_loss: 0.6376 - val_acc: 0.7200\n",
      "Epoch 26/50\n",
      "16/15 [==============================] - 31s 2s/step - loss: 0.3699 - acc: 0.8397 - val_loss: 0.6006 - val_acc: 0.7200\n",
      "Epoch 27/50\n",
      "16/15 [==============================] - 32s 2s/step - loss: 0.3638 - acc: 0.8423 - val_loss: 0.7010 - val_acc: 0.6800\n",
      "Epoch 28/50\n",
      "16/15 [==============================] - 31s 2s/step - loss: 0.3523 - acc: 0.8507 - val_loss: 0.6038 - val_acc: 0.7550\n",
      "Epoch 29/50\n",
      "16/15 [==============================] - 31s 2s/step - loss: 0.3274 - acc: 0.8559 - val_loss: 0.7690 - val_acc: 0.6850\n",
      "Epoch 30/50\n",
      "16/15 [==============================] - 31s 2s/step - loss: 0.3291 - acc: 0.8508 - val_loss: 0.6483 - val_acc: 0.7400\n",
      "Epoch 31/50\n",
      "16/15 [==============================] - 31s 2s/step - loss: 0.3312 - acc: 0.8537 - val_loss: 0.6451 - val_acc: 0.7350\n",
      "Epoch 32/50\n",
      "16/15 [==============================] - 31s 2s/step - loss: 0.3286 - acc: 0.8499 - val_loss: 0.6377 - val_acc: 0.6950\n",
      "Epoch 33/50\n",
      "16/15 [==============================] - 31s 2s/step - loss: 0.3207 - acc: 0.8708 - val_loss: 0.6593 - val_acc: 0.7300\n",
      "Epoch 34/50\n",
      "16/15 [==============================] - 31s 2s/step - loss: 0.2770 - acc: 0.8785 - val_loss: 0.7036 - val_acc: 0.7350\n",
      "Epoch 35/50\n",
      "16/15 [==============================] - 31s 2s/step - loss: 0.3168 - acc: 0.8641 - val_loss: 0.7040 - val_acc: 0.7450\n",
      "Epoch 36/50\n",
      "16/15 [==============================] - 31s 2s/step - loss: 0.2755 - acc: 0.8914 - val_loss: 0.6565 - val_acc: 0.7300\n",
      "Epoch 37/50\n",
      "16/15 [==============================] - 31s 2s/step - loss: 0.2703 - acc: 0.8848 - val_loss: 0.7196 - val_acc: 0.7300\n",
      "Epoch 38/50\n",
      "16/15 [==============================] - 33s 2s/step - loss: 0.2970 - acc: 0.8753 - val_loss: 0.7845 - val_acc: 0.7250\n",
      "Epoch 39/50\n",
      "16/15 [==============================] - 33s 2s/step - loss: 0.2789 - acc: 0.8859 - val_loss: 0.7840 - val_acc: 0.7200\n",
      "Epoch 40/50\n",
      "16/15 [==============================] - 34s 2s/step - loss: 0.2776 - acc: 0.8836 - val_loss: 0.7568 - val_acc: 0.7300\n",
      "Epoch 41/50\n",
      "16/15 [==============================] - 32s 2s/step - loss: 0.2407 - acc: 0.8874 - val_loss: 0.7707 - val_acc: 0.7350\n",
      "Epoch 42/50\n",
      "16/15 [==============================] - 35s 2s/step - loss: 0.2184 - acc: 0.9134 - val_loss: 0.7878 - val_acc: 0.7300\n",
      "Epoch 43/50\n",
      "16/15 [==============================] - 31s 2s/step - loss: 0.2441 - acc: 0.8987 - val_loss: 0.8278 - val_acc: 0.7350\n",
      "Epoch 44/50\n",
      "16/15 [==============================] - 31s 2s/step - loss: 0.2180 - acc: 0.9183 - val_loss: 0.7552 - val_acc: 0.7650\n",
      "Epoch 45/50\n",
      "16/15 [==============================] - 31s 2s/step - loss: 0.2288 - acc: 0.9003 - val_loss: 0.7812 - val_acc: 0.7600\n",
      "Epoch 46/50\n",
      "16/15 [==============================] - 31s 2s/step - loss: 0.2446 - acc: 0.8912 - val_loss: 0.8237 - val_acc: 0.7200\n",
      "Epoch 47/50\n",
      "16/15 [==============================] - 31s 2s/step - loss: 0.2130 - acc: 0.9282 - val_loss: 0.8444 - val_acc: 0.7250\n",
      "Epoch 48/50\n",
      "16/15 [==============================] - 33s 2s/step - loss: 0.1817 - acc: 0.9286 - val_loss: 0.8800 - val_acc: 0.7050\n",
      "Epoch 49/50\n",
      "16/15 [==============================] - 32s 2s/step - loss: 0.1839 - acc: 0.9313 - val_loss: 0.8583 - val_acc: 0.7650\n",
      "Epoch 50/50\n",
      "16/15 [==============================] - 32s 2s/step - loss: 0.1791 - acc: 0.9293 - val_loss: 0.8096 - val_acc: 0.7450\n"
     ]
    },
    {
     "data": {
      "text/plain": [
       "<keras.callbacks.History at 0x7f4087d74438>"
      ]
     },
     "execution_count": 11,
     "metadata": {},
     "output_type": "execute_result"
    }
   ],
   "source": [
    "# Model training\n",
    "model.fit_generator(\n",
    "        train_generator,\n",
    "        steps_per_epoch=1000 / batch_size,\n",
    "        epochs=50,\n",
    "        validation_data=validation_generator,\n",
    "        validation_steps=200 / batch_size)"
   ]
  },
  {
   "cell_type": "code",
   "execution_count": null,
   "metadata": {},
   "outputs": [],
   "source": []
  }
 ],
 "metadata": {
  "kernelspec": {
   "display_name": "Python 3",
   "language": "python",
   "name": "python3"
  },
  "language_info": {
   "codemirror_mode": {
    "name": "ipython",
    "version": 3
   },
   "file_extension": ".py",
   "mimetype": "text/x-python",
   "name": "python",
   "nbconvert_exporter": "python",
   "pygments_lexer": "ipython3",
   "version": "3.6.5"
  }
 },
 "nbformat": 4,
 "nbformat_minor": 2
}
